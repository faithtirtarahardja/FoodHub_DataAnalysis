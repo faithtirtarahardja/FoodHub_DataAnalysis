{
 "cells": [
  {
   "cell_type": "markdown",
   "metadata": {
    "id": "Gc8x8QimJY_H"
   },
   "source": [
    "# Project Python Foundations: FoodHub Data Analysis\n"
   ]
  },
  {
   "cell_type": "markdown",
   "metadata": {
    "id": "NqikjkWwJY_L"
   },
   "source": [
    "### Context\n",
    "\n",
    "The number of restaurants in New York is increasing day by day. Lots of students and busy professionals rely on those restaurants due to their hectic lifestyles. Online food delivery service is a great option for them. It provides them with good food from their favorite restaurants. A food aggregator company FoodHub offers access to multiple restaurants through a single smartphone app.\n",
    "\n",
    "The app allows the restaurants to receive a direct online order from a customer. The app assigns a delivery person from the company to pick up the order after it is confirmed by the restaurant. The delivery person then uses the map to reach the restaurant and waits for the food package. Once the food package is handed over to the delivery person, he/she confirms the pick-up in the app and travels to the customer's location to deliver the food. The delivery person confirms the drop-off in the app after delivering the food package to the customer. The customer can rate the order in the app. The food aggregator earns money by collecting a fixed margin of the delivery order from the restaurants.\n",
    "\n",
    "### Objective\n",
    "\n",
    "The food aggregator company has stored the data of the different orders made by the registered customers in their online portal. They want to analyze the data to get a fair idea about the demand of different restaurants which will help them in enhancing their customer experience. Suppose you are hired as a Data Scientist in this company and the Data Science team has shared some of the key questions that need to be answered. Perform the data analysis to find answers to these questions that will help the company to improve the business. \n",
    "\n",
    "### Data Description\n",
    "\n",
    "The data contains the different data related to a food order. The detailed data dictionary is given below.\n",
    "\n",
    "### Data Dictionary\n",
    "\n",
    "* order_id: Unique ID of the order\n",
    "* customer_id: ID of the customer who ordered the food\n",
    "* restaurant_name: Name of the restaurant\n",
    "* cuisine_type: Cuisine ordered by the customer\n",
    "* cost: Cost of the order\n",
    "* day_of_the_week: Indicates whether the order is placed on a weekday or weekend (The weekday is from Monday to Friday and the weekend is Saturday and Sunday)\n",
    "* rating: Rating given by the customer out of 5\n",
    "* food_preparation_time: Time (in minutes) taken by the restaurant to prepare the food. This is calculated by taking the difference between the timestamps of the restaurant's order confirmation and the delivery person's pick-up confirmation.\n",
    "* delivery_time: Time (in minutes) taken by the delivery person to deliver the food package. This is calculated by taking the difference between the timestamps of the delivery person's pick-up confirmation and drop-off information"
   ]
  },
  {
   "cell_type": "markdown",
   "metadata": {
    "id": "cEtNUxNAJY_M"
   },
   "source": [
    "### Let us start by importing the required libraries"
   ]
  },
  {
   "cell_type": "code",
   "execution_count": 2,
   "metadata": {
    "id": "u6PlpJAPJY_N"
   },
   "outputs": [],
   "source": [
    "# import libraries for data manipulation\n",
    "import numpy as np\n",
    "import pandas as pd\n",
    "\n",
    "# import libraries for data visualization\n",
    "import matplotlib.pyplot as plt\n",
    "import seaborn as sns"
   ]
  },
  {
   "cell_type": "markdown",
   "metadata": {
    "id": "AdracY0HJY_O"
   },
   "source": [
    "### Understanding the structure of the data"
   ]
  },
  {
   "cell_type": "code",
   "execution_count": null,
   "metadata": {
    "id": "WBh2ZGB9kFhU"
   },
   "outputs": [],
   "source": [
    "# uncomment and run the following lines for Google Colab\n",
    "# from google.colab import drive\n",
    "# drive.mount('/content/drive')"
   ]
  },
  {
   "cell_type": "code",
   "execution_count": 3,
   "metadata": {
    "id": "GF01IZDbJY_O",
    "scrolled": true
   },
   "outputs": [
    {
     "data": {
      "text/html": [
       "<div>\n",
       "<style scoped>\n",
       "    .dataframe tbody tr th:only-of-type {\n",
       "        vertical-align: middle;\n",
       "    }\n",
       "\n",
       "    .dataframe tbody tr th {\n",
       "        vertical-align: top;\n",
       "    }\n",
       "\n",
       "    .dataframe thead th {\n",
       "        text-align: right;\n",
       "    }\n",
       "</style>\n",
       "<table border=\"1\" class=\"dataframe\">\n",
       "  <thead>\n",
       "    <tr style=\"text-align: right;\">\n",
       "      <th></th>\n",
       "      <th>order_id</th>\n",
       "      <th>customer_id</th>\n",
       "      <th>restaurant_name</th>\n",
       "      <th>cuisine_type</th>\n",
       "      <th>cost_of_the_order</th>\n",
       "      <th>day_of_the_week</th>\n",
       "      <th>rating</th>\n",
       "      <th>food_preparation_time</th>\n",
       "      <th>delivery_time</th>\n",
       "    </tr>\n",
       "  </thead>\n",
       "  <tbody>\n",
       "    <tr>\n",
       "      <th>0</th>\n",
       "      <td>1477147</td>\n",
       "      <td>337525</td>\n",
       "      <td>Hangawi</td>\n",
       "      <td>Korean</td>\n",
       "      <td>30.75</td>\n",
       "      <td>Weekend</td>\n",
       "      <td>Not given</td>\n",
       "      <td>25</td>\n",
       "      <td>20</td>\n",
       "    </tr>\n",
       "    <tr>\n",
       "      <th>1</th>\n",
       "      <td>1477685</td>\n",
       "      <td>358141</td>\n",
       "      <td>Blue Ribbon Sushi Izakaya</td>\n",
       "      <td>Japanese</td>\n",
       "      <td>12.08</td>\n",
       "      <td>Weekend</td>\n",
       "      <td>Not given</td>\n",
       "      <td>25</td>\n",
       "      <td>23</td>\n",
       "    </tr>\n",
       "    <tr>\n",
       "      <th>2</th>\n",
       "      <td>1477070</td>\n",
       "      <td>66393</td>\n",
       "      <td>Cafe Habana</td>\n",
       "      <td>Mexican</td>\n",
       "      <td>12.23</td>\n",
       "      <td>Weekday</td>\n",
       "      <td>5</td>\n",
       "      <td>23</td>\n",
       "      <td>28</td>\n",
       "    </tr>\n",
       "    <tr>\n",
       "      <th>3</th>\n",
       "      <td>1477334</td>\n",
       "      <td>106968</td>\n",
       "      <td>Blue Ribbon Fried Chicken</td>\n",
       "      <td>American</td>\n",
       "      <td>29.20</td>\n",
       "      <td>Weekend</td>\n",
       "      <td>3</td>\n",
       "      <td>25</td>\n",
       "      <td>15</td>\n",
       "    </tr>\n",
       "    <tr>\n",
       "      <th>4</th>\n",
       "      <td>1478249</td>\n",
       "      <td>76942</td>\n",
       "      <td>Dirty Bird to Go</td>\n",
       "      <td>American</td>\n",
       "      <td>11.59</td>\n",
       "      <td>Weekday</td>\n",
       "      <td>4</td>\n",
       "      <td>25</td>\n",
       "      <td>24</td>\n",
       "    </tr>\n",
       "  </tbody>\n",
       "</table>\n",
       "</div>"
      ],
      "text/plain": [
       "   order_id  customer_id            restaurant_name cuisine_type  \\\n",
       "0   1477147       337525                    Hangawi       Korean   \n",
       "1   1477685       358141  Blue Ribbon Sushi Izakaya     Japanese   \n",
       "2   1477070        66393                Cafe Habana      Mexican   \n",
       "3   1477334       106968  Blue Ribbon Fried Chicken     American   \n",
       "4   1478249        76942           Dirty Bird to Go     American   \n",
       "\n",
       "   cost_of_the_order day_of_the_week     rating  food_preparation_time  \\\n",
       "0              30.75         Weekend  Not given                     25   \n",
       "1              12.08         Weekend  Not given                     25   \n",
       "2              12.23         Weekday          5                     23   \n",
       "3              29.20         Weekend          3                     25   \n",
       "4              11.59         Weekday          4                     25   \n",
       "\n",
       "   delivery_time  \n",
       "0             20  \n",
       "1             23  \n",
       "2             28  \n",
       "3             15  \n",
       "4             24  "
      ]
     },
     "execution_count": 3,
     "metadata": {},
     "output_type": "execute_result"
    }
   ],
   "source": [
    "# read the data\n",
    "df = pd.read_csv('C:/Users/15612/Downloads/foodhub_order.csv')\n",
    "# returns the first 5 rows\n",
    "df.head()"
   ]
  },
  {
   "cell_type": "markdown",
   "metadata": {
    "id": "J_Y9aJDJJY_P"
   },
   "source": [
    "#### Observations:\n",
    "\n",
    "The DataFrame has 9 columns as mentioned in the Data Dictionary. Data in each row corresponds to the order placed by a customer."
   ]
  },
  {
   "cell_type": "markdown",
   "metadata": {
    "id": "c3kenV4vJY_Q"
   },
   "source": [
    "### **Question 1:** How many rows and columns are present in the data? "
   ]
  },
  {
   "cell_type": "code",
   "execution_count": 4,
   "metadata": {
    "id": "Yvz5i-PhJY_Q"
   },
   "outputs": [
    {
     "data": {
      "text/plain": [
       "(1898, 9)"
      ]
     },
     "execution_count": 4,
     "metadata": {},
     "output_type": "execute_result"
    }
   ],
   "source": [
    "df.shape #shape of the data provides us with the rows and columns in the dataset"
   ]
  },
  {
   "cell_type": "markdown",
   "metadata": {
    "id": "UsTNy3unJY_R"
   },
   "source": [
    "#### Observations: \n",
    "There are 1898 rows and 9 columns present in the data.\n"
   ]
  },
  {
   "cell_type": "markdown",
   "metadata": {
    "id": "jRXakVrUJY_R"
   },
   "source": [
    "### **Question 2:** What are the datatypes of the different columns in the dataset? "
   ]
  },
  {
   "cell_type": "code",
   "execution_count": 5,
   "metadata": {
    "id": "Kp70Z0BNJY_R"
   },
   "outputs": [
    {
     "name": "stdout",
     "output_type": "stream",
     "text": [
      "<class 'pandas.core.frame.DataFrame'>\n",
      "RangeIndex: 1898 entries, 0 to 1897\n",
      "Data columns (total 9 columns):\n",
      " #   Column                 Non-Null Count  Dtype  \n",
      "---  ------                 --------------  -----  \n",
      " 0   order_id               1898 non-null   int64  \n",
      " 1   customer_id            1898 non-null   int64  \n",
      " 2   restaurant_name        1898 non-null   object \n",
      " 3   cuisine_type           1898 non-null   object \n",
      " 4   cost_of_the_order      1898 non-null   float64\n",
      " 5   day_of_the_week        1898 non-null   object \n",
      " 6   rating                 1898 non-null   object \n",
      " 7   food_preparation_time  1898 non-null   int64  \n",
      " 8   delivery_time          1898 non-null   int64  \n",
      "dtypes: float64(1), int64(4), object(4)\n",
      "memory usage: 133.6+ KB\n"
     ]
    }
   ],
   "source": [
    "# Use info() to print a concise summary of the DataFrame\n",
    "df.info()"
   ]
  },
  {
   "cell_type": "markdown",
   "metadata": {
    "id": "WJes5GP2JY_S"
   },
   "source": [
    "#### Observations: \n",
    "There are 5 numerical columns and 4 object type columns. However, the column rating is being read as an object type column when it should be a numerical column since it is a numerical rating. After looking closer to the rating column the reason why it is being read as an object type is because there are ratings that are \"Not Given\". Since there is string and numbers in this column, the column is being read as an object type column.\n"
   ]
  },
  {
   "cell_type": "markdown",
   "metadata": {
    "id": "pF_92MN6JY_S"
   },
   "source": [
    "### **Question 3:** Are there any missing values in the data? If yes, treat them using an appropriate method."
   ]
  },
  {
   "cell_type": "code",
   "execution_count": 6,
   "metadata": {
    "id": "Zth-RR1PJY_S"
   },
   "outputs": [
    {
     "data": {
      "text/plain": [
       "order_id                 0\n",
       "customer_id              0\n",
       "restaurant_name          0\n",
       "cuisine_type             0\n",
       "cost_of_the_order        0\n",
       "day_of_the_week          0\n",
       "rating                   0\n",
       "food_preparation_time    0\n",
       "delivery_time            0\n",
       "dtype: int64"
      ]
     },
     "execution_count": 6,
     "metadata": {},
     "output_type": "execute_result"
    }
   ],
   "source": [
    "df.isnull().sum() #isnull().sum() provides us with a sum of the missing values in each column"
   ]
  },
  {
   "cell_type": "markdown",
   "metadata": {
    "id": "jDHT3vD1JY_S"
   },
   "source": [
    "#### Observations:\n",
    "There seems to be no missing values in the data."
   ]
  },
  {
   "cell_type": "markdown",
   "metadata": {
    "id": "MnJo7MWrJY_S"
   },
   "source": [
    "### **Question 4:** Check the statistical summary of the data. What is the minimum, average, and maximum time it takes for food to be prepared once an order is placed?"
   ]
  },
  {
   "cell_type": "code",
   "execution_count": 176,
   "metadata": {
    "id": "WprQBgOSJY_T"
   },
   "outputs": [
    {
     "data": {
      "text/html": [
       "<div>\n",
       "<style scoped>\n",
       "    .dataframe tbody tr th:only-of-type {\n",
       "        vertical-align: middle;\n",
       "    }\n",
       "\n",
       "    .dataframe tbody tr th {\n",
       "        vertical-align: top;\n",
       "    }\n",
       "\n",
       "    .dataframe thead th {\n",
       "        text-align: right;\n",
       "    }\n",
       "</style>\n",
       "<table border=\"1\" class=\"dataframe\">\n",
       "  <thead>\n",
       "    <tr style=\"text-align: right;\">\n",
       "      <th></th>\n",
       "      <th>count</th>\n",
       "      <th>mean</th>\n",
       "      <th>std</th>\n",
       "      <th>min</th>\n",
       "      <th>25%</th>\n",
       "      <th>50%</th>\n",
       "      <th>75%</th>\n",
       "      <th>max</th>\n",
       "    </tr>\n",
       "  </thead>\n",
       "  <tbody>\n",
       "    <tr>\n",
       "      <th>order_id</th>\n",
       "      <td>1898.000000</td>\n",
       "      <td>1477495.500000</td>\n",
       "      <td>548.049724</td>\n",
       "      <td>1476547.000000</td>\n",
       "      <td>1477021.250000</td>\n",
       "      <td>1477495.500000</td>\n",
       "      <td>1477969.750000</td>\n",
       "      <td>1478444.000000</td>\n",
       "    </tr>\n",
       "    <tr>\n",
       "      <th>customer_id</th>\n",
       "      <td>1898.000000</td>\n",
       "      <td>171168.478398</td>\n",
       "      <td>113698.139743</td>\n",
       "      <td>1311.000000</td>\n",
       "      <td>77787.750000</td>\n",
       "      <td>128600.000000</td>\n",
       "      <td>270525.000000</td>\n",
       "      <td>405334.000000</td>\n",
       "    </tr>\n",
       "    <tr>\n",
       "      <th>cost_of_the_order</th>\n",
       "      <td>1898.000000</td>\n",
       "      <td>16.498851</td>\n",
       "      <td>7.483812</td>\n",
       "      <td>4.470000</td>\n",
       "      <td>12.080000</td>\n",
       "      <td>14.140000</td>\n",
       "      <td>22.297500</td>\n",
       "      <td>35.410000</td>\n",
       "    </tr>\n",
       "    <tr>\n",
       "      <th>food_preparation_time</th>\n",
       "      <td>1898.000000</td>\n",
       "      <td>27.371970</td>\n",
       "      <td>4.632481</td>\n",
       "      <td>20.000000</td>\n",
       "      <td>23.000000</td>\n",
       "      <td>27.000000</td>\n",
       "      <td>31.000000</td>\n",
       "      <td>35.000000</td>\n",
       "    </tr>\n",
       "    <tr>\n",
       "      <th>delivery_time</th>\n",
       "      <td>1898.000000</td>\n",
       "      <td>24.161749</td>\n",
       "      <td>4.972637</td>\n",
       "      <td>15.000000</td>\n",
       "      <td>20.000000</td>\n",
       "      <td>25.000000</td>\n",
       "      <td>28.000000</td>\n",
       "      <td>33.000000</td>\n",
       "    </tr>\n",
       "    <tr>\n",
       "      <th>total_time</th>\n",
       "      <td>1898.000000</td>\n",
       "      <td>51.533720</td>\n",
       "      <td>6.833603</td>\n",
       "      <td>35.000000</td>\n",
       "      <td>47.000000</td>\n",
       "      <td>52.000000</td>\n",
       "      <td>56.000000</td>\n",
       "      <td>68.000000</td>\n",
       "    </tr>\n",
       "  </tbody>\n",
       "</table>\n",
       "</div>"
      ],
      "text/plain": [
       "                            count           mean           std            min  \\\n",
       "order_id              1898.000000 1477495.500000    548.049724 1476547.000000   \n",
       "customer_id           1898.000000  171168.478398 113698.139743    1311.000000   \n",
       "cost_of_the_order     1898.000000      16.498851      7.483812       4.470000   \n",
       "food_preparation_time 1898.000000      27.371970      4.632481      20.000000   \n",
       "delivery_time         1898.000000      24.161749      4.972637      15.000000   \n",
       "total_time            1898.000000      51.533720      6.833603      35.000000   \n",
       "\n",
       "                                 25%            50%            75%  \\\n",
       "order_id              1477021.250000 1477495.500000 1477969.750000   \n",
       "customer_id             77787.750000  128600.000000  270525.000000   \n",
       "cost_of_the_order          12.080000      14.140000      22.297500   \n",
       "food_preparation_time      23.000000      27.000000      31.000000   \n",
       "delivery_time              20.000000      25.000000      28.000000   \n",
       "total_time                 47.000000      52.000000      56.000000   \n",
       "\n",
       "                                 max  \n",
       "order_id              1478444.000000  \n",
       "customer_id            405334.000000  \n",
       "cost_of_the_order          35.410000  \n",
       "food_preparation_time      35.000000  \n",
       "delivery_time              33.000000  \n",
       "total_time                 68.000000  "
      ]
     },
     "execution_count": 176,
     "metadata": {},
     "output_type": "execute_result"
    }
   ],
   "source": [
    "df.describe().T #the describe() function gives us the statistics of each column"
   ]
  },
  {
   "cell_type": "markdown",
   "metadata": {
    "id": "9YbSOR5wJY_T"
   },
   "source": [
    "### Observations: \n",
    "The minimum time it takes for food to be prepared once an order is placed is 20 minutes. The average time is 27 minutes and the maximum time is 35 minutes. \n"
   ]
  },
  {
   "cell_type": "markdown",
   "metadata": {
    "id": "cw3l58z_JY_T"
   },
   "source": [
    "### **Question 5:** How many orders are not rated?"
   ]
  },
  {
   "cell_type": "code",
   "execution_count": 8,
   "metadata": {
    "id": "hEzDUL9wgksi"
   },
   "outputs": [
    {
     "data": {
      "text/plain": [
       "736"
      ]
     },
     "execution_count": 8,
     "metadata": {},
     "output_type": "execute_result"
    }
   ],
   "source": [
    "df[\"rating\"].value_counts()[['Not given']].sum() #This code will give the sum of the orders that were rated as 'Not given'"
   ]
  },
  {
   "cell_type": "markdown",
   "metadata": {
    "id": "5E0O_oviJY_T"
   },
   "source": [
    "#### Observations:\n",
    "736 orders out of 1898 orders are not rated."
   ]
  },
  {
   "cell_type": "markdown",
   "metadata": {
    "id": "7msIfXE-JY_T"
   },
   "source": [
    "### Exploratory Data Analysis (EDA)"
   ]
  },
  {
   "cell_type": "markdown",
   "metadata": {
    "id": "-2xfI28YJY_T"
   },
   "source": [
    "### Univariate Analysis"
   ]
  },
  {
   "cell_type": "markdown",
   "metadata": {
    "id": "0RHZnugBJY_U"
   },
   "source": [
    "### **Question 6:** Explore all the variables and provide observations on their distributions. (Generally, histograms, boxplots, countplots, etc. are used for univariate exploration.) "
   ]
  },
  {
   "cell_type": "code",
   "execution_count": 9,
   "metadata": {
    "id": "rU5ZqISjJY_U"
   },
   "outputs": [
    {
     "data": {
      "image/png": "[encoded data removed]",
      "text/plain": [
       "<Figure size 432x288 with 1 Axes>"
      ]
     },
     "metadata": {
      "needs_background": "light"
     },
     "output_type": "display_data"
    }
   ],
   "source": [
    "sns.countplot(data=df,x='cuisine_type')\n",
    "plt.xticks(rotation=90)\n",
    "plt.show()"
   ]
  },
  {
   "cell_type": "markdown",
   "metadata": {},
   "source": [
    "#### Observations:\n",
    "American, Japanese, Italian, and Chinese are the most popular cuisine types among FoodHub customers. "
   ]
  },
  {
   "cell_type": "code",
   "execution_count": 10,
   "metadata": {},
   "outputs": [
    {
     "data": {
      "image/png": "[encoded data removed]",
      "text/plain": [
       "<Figure size 432x288 with 1 Axes>"
      ]
     },
     "metadata": {
      "needs_background": "light"
     },
     "output_type": "display_data"
    },
    {
     "data": {
      "image/png": "[encoded data removed]",
      "text/plain": [
       "<Figure size 432x288 with 1 Axes>"
      ]
     },
     "metadata": {
      "needs_background": "light"
     },
     "output_type": "display_data"
    }
   ],
   "source": [
    "sns.histplot(data=df,x='cost_of_the_order')\n",
    "plt.show()\n",
    "sns.boxplot(data=df,x='cost_of_the_order')\n",
    "plt.show()"
   ]
  },
  {
   "cell_type": "markdown",
   "metadata": {},
   "source": [
    "# Observations: \n",
    "The cost of the order column is more right-skewed meaning most of the orders in FoodHub are cheaper and fall in the $10-$20 dollar range. 50% of orders cost less than 15 dollars. "
   ]
  },
  {
   "cell_type": "code",
   "execution_count": 11,
   "metadata": {},
   "outputs": [
    {
     "data": {
      "image/png": "[encoded data removed]",
      "text/plain": [
       "<Figure size 432x288 with 1 Axes>"
      ]
     },
     "metadata": {
      "needs_background": "light"
     },
     "output_type": "display_data"
    }
   ],
   "source": [
    "sns.countplot(data=df,x='day_of_the_week')\n",
    "plt.xticks(rotation=90)\n",
    "plt.show()"
   ]
  },
  {
   "cell_type": "markdown",
   "metadata": {},
   "source": [
    "#### Observations: \n",
    "Most orders (more than half) are placed on Weekends. FoodHub service is more common on the weekends than on weekdays. Orders on weekends are more than double the amount of orders on the weekdays. "
   ]
  },
  {
   "cell_type": "code",
   "execution_count": 12,
   "metadata": {
    "scrolled": true
   },
   "outputs": [
    {
     "data": {
      "image/png": "[encoded data removed]",
      "text/plain": [
       "<Figure size 432x288 with 1 Axes>"
      ]
     },
     "metadata": {
      "needs_background": "light"
     },
     "output_type": "display_data"
    }
   ],
   "source": [
    "sns.countplot(data=df,x='rating')\n",
    "plt.xticks(rotation=90)\n",
    "plt.show()"
   ]
  },
  {
   "cell_type": "markdown",
   "metadata": {},
   "source": [
    "#### Observations:\n",
    "A majority of the orders are not given a rating by each customer but in cases where a customer gives a rating higher ratings are given. When a order was rated, most orders were given a rating of 5. There are no ratings that are lower than a 3. "
   ]
  },
  {
   "cell_type": "code",
   "execution_count": 13,
   "metadata": {},
   "outputs": [
    {
     "data": {
      "image/png": "[encoded data removed]",
      "text/plain": [
       "<Figure size 432x288 with 1 Axes>"
      ]
     },
     "metadata": {
      "needs_background": "light"
     },
     "output_type": "display_data"
    },
    {
     "data": {
      "image/png": "[encoded data removed]",
      "text/plain": [
       "<Figure size 432x288 with 1 Axes>"
      ]
     },
     "metadata": {
      "needs_background": "light"
     },
     "output_type": "display_data"
    }
   ],
   "source": [
    "sns.histplot(data=df,x='food_preparation_time')\n",
    "plt.show()\n",
    "sns.boxplot(data=df,x='food_preparation_time')\n",
    "plt.show()"
   ]
  },
  {
   "cell_type": "markdown",
   "metadata": {},
   "source": [
    "#### Observations:\n",
    "Food Preparation time is for the most more evenly distributed with a slight right skewdness. 50% of orders took less than 27 minutes for their food to be prepped."
   ]
  },
  {
   "cell_type": "code",
   "execution_count": 14,
   "metadata": {},
   "outputs": [
    {
     "data": {
      "image/png": "[encoded data removed]",
      "text/plain": [
       "<Figure size 432x288 with 1 Axes>"
      ]
     },
     "metadata": {
      "needs_background": "light"
     },
     "output_type": "display_data"
    },
    {
     "data": {
      "image/png": "[encoded data removed]",
      "text/plain": [
       "<Figure size 432x288 with 1 Axes>"
      ]
     },
     "metadata": {
      "needs_background": "light"
     },
     "output_type": "display_data"
    }
   ],
   "source": [
    "sns.histplot(data=df,x='delivery_time')\n",
    "plt.show()\n",
    "sns.boxplot(data=df,x='delivery_time')\n",
    "plt.show()"
   ]
  },
  {
   "cell_type": "markdown",
   "metadata": {},
   "source": [
    "#### Observations:\n",
    "The Delivery time is slightly left-skewed. \n",
    "50% of orders have delivery times of less than 25 minutes. "
   ]
  },
  {
   "cell_type": "markdown",
   "metadata": {
    "id": "K9CqA5H_JY_U"
   },
   "source": [
    "### **Question 7**: Which are the top 5 restaurants in terms of the number of orders received?"
   ]
  },
  {
   "cell_type": "code",
   "execution_count": 15,
   "metadata": {
    "id": "PaJZ3wlOJY_U"
   },
   "outputs": [
    {
     "data": {
      "text/plain": [
       "restaurant_name\n",
       "'wichcraft                     1\n",
       "Lamarca Pasta                  1\n",
       "Kori Restaurant and Bar        1\n",
       "Klong                          1\n",
       "Kambi Ramen House              1\n",
       "                            ... \n",
       "Parm                          68\n",
       "Blue Ribbon Fried Chicken     96\n",
       "Blue Ribbon Sushi            119\n",
       "The Meatball Shop            132\n",
       "Shake Shack                  219\n",
       "Name: order_id, Length: 178, dtype: int64"
      ]
     },
     "execution_count": 15,
     "metadata": {},
     "output_type": "execute_result"
    }
   ],
   "source": [
    "df.groupby('restaurant_name')['order_id'].nunique().sort_values() #By using the group by function the two columns: restaurant_name and order_id are combined. The nunique function allows each order ID to be calculated so that each restauarant will have the total number of orders received. The sort_value function then sorts the numbers from least to greatest so that it is easier to go through. "
   ]
  },
  {
   "cell_type": "markdown",
   "metadata": {
    "id": "tnjhWgUfJY_U"
   },
   "source": [
    "#### Observations:\n",
    "Shake Shack, The Meatball Shop, Blue Ribbon Sushi, Blue Ribbon Fried Chicken, and Parm are the top 5 restaurants in terms of the number of orders received. Shake Shack had the most with 219 orders. The Metball Shop with 132 orders. Blue RIbbon Sushi with 119 orders. Blue Ribbon Fried Chicken with 96 orders and Parm with 68 orders. "
   ]
  },
  {
   "cell_type": "markdown",
   "metadata": {
    "id": "gWPMqGq0JY_U"
   },
   "source": [
    "### **Question 8**: Which is the most popular cuisine on weekends? "
   ]
  },
  {
   "cell_type": "code",
   "execution_count": 16,
   "metadata": {
    "id": "c-Xnus3VJY_U"
   },
   "outputs": [
    {
     "data": {
      "text/plain": [
       "cuisine_type    day_of_the_week\n",
       "American        Weekday            169\n",
       "                Weekend            415\n",
       "Chinese         Weekday             52\n",
       "                Weekend            163\n",
       "French          Weekday              5\n",
       "                Weekend             13\n",
       "Indian          Weekday             24\n",
       "                Weekend             49\n",
       "Italian         Weekday             91\n",
       "                Weekend            207\n",
       "Japanese        Weekday            135\n",
       "                Weekend            335\n",
       "Korean          Weekday              2\n",
       "                Weekend             11\n",
       "Mediterranean   Weekday             14\n",
       "                Weekend             32\n",
       "Mexican         Weekday             24\n",
       "                Weekend             53\n",
       "Middle Eastern  Weekday             17\n",
       "                Weekend             32\n",
       "Southern        Weekday              6\n",
       "                Weekend             11\n",
       "Spanish         Weekday              1\n",
       "                Weekend             11\n",
       "Thai            Weekday              4\n",
       "                Weekend             15\n",
       "Vietnamese      Weekday              3\n",
       "                Weekend              4\n",
       "dtype: int64"
      ]
     },
     "execution_count": 16,
     "metadata": {},
     "output_type": "execute_result"
    }
   ],
   "source": [
    "df.groupby(by=['cuisine_type', 'day_of_the_week']).size() #the groupby function allows cuisine type and day of the week to be grouped together so that I can assess the orders received based on cuisine type and day of the week. "
   ]
  },
  {
   "cell_type": "markdown",
   "metadata": {
    "id": "bpQ270TUJY_U"
   },
   "source": [
    "### Observations:\n",
    "The American cuisine type is the most popular on weekends with 415 orders. Followed by the Japanese cuisine type with 335 orders. "
   ]
  },
  {
   "cell_type": "markdown",
   "metadata": {
    "id": "88xgTqkxJY_U"
   },
   "source": [
    "### **Question 9**: What percentage of the orders cost more than 20 dollars? "
   ]
  },
  {
   "cell_type": "code",
   "execution_count": 17,
   "metadata": {
    "id": "OTpHyTdzJY_U"
   },
   "outputs": [
    {
     "data": {
      "text/plain": [
       "(555, 9)"
      ]
     },
     "execution_count": 17,
     "metadata": {},
     "output_type": "execute_result"
    }
   ],
   "source": [
    "df.loc[df['cost_of_the_order']>20].shape #this code finds each row that follows the criteria of a cost of more than 20. the shape function returns the number of rows that follow the criteria. "
   ]
  },
  {
   "cell_type": "code",
   "execution_count": 18,
   "metadata": {},
   "outputs": [
    {
     "data": {
      "text/plain": [
       "(1898, 9)"
      ]
     },
     "execution_count": 18,
     "metadata": {},
     "output_type": "execute_result"
    }
   ],
   "source": [
    "df.shape #then I used the shape of the whole dataset to find how many rows there are in total. "
   ]
  },
  {
   "cell_type": "code",
   "execution_count": 19,
   "metadata": {},
   "outputs": [
    {
     "data": {
      "text/plain": [
       "29.24130663856691"
      ]
     },
     "execution_count": 19,
     "metadata": {},
     "output_type": "execute_result"
    }
   ],
   "source": [
    "555/1898*100 #in order to find the percentage I divided 555 (the number of orders that cost more than 20 dollars) with the total number of orders (1898) then multiplied by 100 to find the percentage of the orders that cost more than 20 dollars.  "
   ]
  },
  {
   "cell_type": "markdown",
   "metadata": {
    "id": "77KNAC5zJY_U"
   },
   "source": [
    "#### Observations:\n",
    "29% of orders cost more than 20 dollars meaning that 71% (more than half of the orders) are less than 20 dollars. \n"
   ]
  },
  {
   "cell_type": "markdown",
   "metadata": {
    "id": "HFyHn7hsJY_V"
   },
   "source": [
    "### **Question 10**: What is the mean order delivery time?"
   ]
  },
  {
   "cell_type": "code",
   "execution_count": 20,
   "metadata": {
    "id": "cyFL13hNJY_V"
   },
   "outputs": [
    {
     "data": {
      "text/plain": [
       "24.161749209694417"
      ]
     },
     "execution_count": 20,
     "metadata": {},
     "output_type": "execute_result"
    }
   ],
   "source": [
    "df.delivery_time.mean()"
   ]
  },
  {
   "cell_type": "markdown",
   "metadata": {
    "id": "F35SRV-HJY_V"
   },
   "source": [
    "#### Observations:\n",
    "The mean order delivery time is 24 minutes. "
   ]
  },
  {
   "cell_type": "markdown",
   "metadata": {
    "id": "48IjaOuDJY_V"
   },
   "source": [
    "### **Question 11:** The company has decided to give 20% discount vouchers to the top 5 most frequent customers. Find the IDs of these customers and the number of orders they placed. "
   ]
  },
  {
   "cell_type": "code",
   "execution_count": 21,
   "metadata": {
    "id": "Hz8-DE4Zge0j"
   },
   "outputs": [
    {
     "data": {
      "text/plain": [
       "customer_id\n",
       "1311       1\n",
       "175327     1\n",
       "176234     1\n",
       "178172     1\n",
       "178846     1\n",
       "          ..\n",
       "65009      7\n",
       "250494     8\n",
       "83287      9\n",
       "47440     10\n",
       "52832     13\n",
       "Name: order_id, Length: 1200, dtype: int64"
      ]
     },
     "execution_count": 21,
     "metadata": {},
     "output_type": "execute_result"
    }
   ],
   "source": [
    "df.groupby('customer_id')['order_id'].nunique().sort_values() #the groupby function combines customer id and order id so that it can calculate the number of orders per customer. nunique counts the number of order ids that belong to each customer id and sort_values sorts the values from least to greatest so that the top 5 customers are more easily found."
   ]
  },
  {
   "cell_type": "markdown",
   "metadata": {
    "id": "9tWVwfX6JY_V"
   },
   "source": [
    "#### Observations:\n",
    "Top 5 Most Frequent Customers Order IDs: \n",
    "52832: 13 orders, 47440: 10 orders, 83287: 9 orders, 250494: 8 orders"
   ]
  },
  {
   "cell_type": "markdown",
   "metadata": {
    "id": "AfIc2jPaJY_V"
   },
   "source": [
    "### Multivariate Analysis"
   ]
  },
  {
   "cell_type": "markdown",
   "metadata": {
    "id": "iqiS0RT_JY_V"
   },
   "source": [
    "### **Question 12**: Perform a multivariate analysis to explore relationships between the important variables in the dataset. (It is a good idea to explore relations between numerical variables as well as relations between numerical and categorical variables) \n"
   ]
  },
  {
   "cell_type": "code",
   "execution_count": 22,
   "metadata": {
    "id": "3qt4MCNTJY_V"
   },
   "outputs": [
    {
     "data": {
      "image/png": "[encoded data removed]",
      "text/plain": [
       "<Figure size 720x360 with 2 Axes>"
      ]
     },
     "metadata": {
      "needs_background": "light"
     },
     "output_type": "display_data"
    }
   ],
   "source": [
    "plt.figure(figsize=(10,5))\n",
    "sns.heatmap(df.corr(),annot=True,cmap='Spectral',vmin=-1,vmax=1)\n",
    "plt.show()"
   ]
  },
  {
   "cell_type": "markdown",
   "metadata": {},
   "source": [
    "#### Observations: \n",
    "None of the numerical variables seem to have any strong correlation with each other. Let's examine the relationship between numerical and categorical variables."
   ]
  },
  {
   "cell_type": "code",
   "execution_count": 146,
   "metadata": {},
   "outputs": [
    {
     "data": {
      "text/plain": [
       "<AxesSubplot:xlabel='day_of_the_week', ylabel='delivery_time'>"
      ]
     },
     "execution_count": 146,
     "metadata": {},
     "output_type": "execute_result"
    },
    {
     "data": {
      "image/png": "[encoded data removed]",
      "text/plain": [
       "<Figure size 432x288 with 1 Axes>"
      ]
     },
     "metadata": {
      "needs_background": "light"
     },
     "output_type": "display_data"
    }
   ],
   "source": [
    "sns.stripplot(data=df,x='day_of_the_week',y='delivery_time',jitter=True)"
   ]
  },
  {
   "cell_type": "code",
   "execution_count": 147,
   "metadata": {},
   "outputs": [
    {
     "data": {
      "text/plain": [
       "<AxesSubplot:xlabel='day_of_the_week', ylabel='delivery_time'>"
      ]
     },
     "execution_count": 147,
     "metadata": {},
     "output_type": "execute_result"
    },
    {
     "data": {
      "image/png": "[encoded data removed]",
      "text/plain": [
       "<Figure size 432x288 with 1 Axes>"
      ]
     },
     "metadata": {
      "needs_background": "light"
     },
     "output_type": "display_data"
    }
   ],
   "source": [
    "sns.boxplot(data=df, x='day_of_the_week', y='delivery_time')"
   ]
  },
  {
   "cell_type": "markdown",
   "metadata": {},
   "source": [
    "#### Observations: \n",
    "50% of the weekends orders take less than 22.5 minutes to be delivered while 50% of the weekday orders take less than 30 minutes to be delivered. On Weekdays the median delivery time is higher than on Weekends. The delivery time on the weekdays is significantly slower (with all of the delivery times on the weekdays being higher than the median of delivery time on the weekends). "
   ]
  },
  {
   "cell_type": "code",
   "execution_count": 148,
   "metadata": {},
   "outputs": [
    {
     "data": {
      "text/plain": [
       "<AxesSubplot:xlabel='rating', ylabel='delivery_time'>"
      ]
     },
     "execution_count": 148,
     "metadata": {},
     "output_type": "execute_result"
    },
    {
     "data": {
      "image/png": "[encoded data removed]",
      "text/plain": [
       "<Figure size 432x288 with 1 Axes>"
      ]
     },
     "metadata": {
      "needs_background": "light"
     },
     "output_type": "display_data"
    }
   ],
   "source": [
    "sns.boxplot(data=df, x='rating', y='delivery_time')"
   ]
  },
  {
   "cell_type": "markdown",
   "metadata": {},
   "source": [
    "#### Observations: \n",
    "The median delivery time for orders with a rating of 4 are lower than the rest of the ratings."
   ]
  },
  {
   "cell_type": "code",
   "execution_count": 149,
   "metadata": {},
   "outputs": [
    {
     "data": {
      "text/plain": [
       "<AxesSubplot:xlabel='rating', ylabel='count'>"
      ]
     },
     "execution_count": 149,
     "metadata": {},
     "output_type": "execute_result"
    },
    {
     "data": {
      "image/png": "[encoded data removed]",
      "text/plain": [
       "<Figure size 432x288 with 1 Axes>"
      ]
     },
     "metadata": {
      "needs_background": "light"
     },
     "output_type": "display_data"
    }
   ],
   "source": [
    "sns.countplot(data=df, x='rating', hue='cuisine_type')"
   ]
  },
  {
   "cell_type": "markdown",
   "metadata": {},
   "source": [
    "#### Observations:\n",
    "American, Japanese, Italian, and Chinese cuisines are rated the most throughout all ratings. However American cuisines receive the highest ratings out of all the other cuisines. Japanese cuisines are the second most highest rated cuisine then Italian, and then Chinese. "
   ]
  },
  {
   "cell_type": "code",
   "execution_count": 177,
   "metadata": {},
   "outputs": [
    {
     "data": {
      "image/png": "[encoded data removed]",
      "text/plain": [
       "<Figure size 432x288 with 1 Axes>"
      ]
     },
     "metadata": {
      "needs_background": "light"
     },
     "output_type": "display_data"
    }
   ],
   "source": [
    "sns.boxplot(data=df, x='cuisine_type', y='cost_of_the_order')\n",
    "plt.xticks(rotation=90);"
   ]
  },
  {
   "cell_type": "markdown",
   "metadata": {},
   "source": [
    "#### Observations:\n",
    "Vietnamese and Korean cuisine have a median cost that is lower than all of the other cuisines. French cuisine on the other hand have a median cost that is higher than all the other cuisines. "
   ]
  },
  {
   "cell_type": "code",
   "execution_count": 156,
   "metadata": {},
   "outputs": [
    {
     "data": {
      "image/png": "[encoded data removed]",
      "text/plain": [
       "<Figure size 432x288 with 1 Axes>"
      ]
     },
     "metadata": {
      "needs_background": "light"
     },
     "output_type": "display_data"
    }
   ],
   "source": [
    "sns.boxplot(data=df, x='cuisine_type', y='delivery_time')\n",
    "plt.xticks(rotation=90);"
   ]
  },
  {
   "cell_type": "markdown",
   "metadata": {},
   "source": [
    "#### Observations:\n",
    "The median delivery time for Korean cuisine is significantly lower than all the other cuisines meaning that the delivery time for Korean cuisine is faster compared to the other cuisines. The French cuisine on the other hand has the highest median delivery time meaning they are the slowest with delivering. "
   ]
  },
  {
   "cell_type": "code",
   "execution_count": 157,
   "metadata": {},
   "outputs": [
    {
     "data": {
      "image/png": "[encoded data removed]",
      "text/plain": [
       "<Figure size 432x288 with 1 Axes>"
      ]
     },
     "metadata": {
      "needs_background": "light"
     },
     "output_type": "display_data"
    }
   ],
   "source": [
    "sns.boxplot(data=df, x='cuisine_type', y='food_preparation_time')\n",
    "plt.xticks(rotation=90);"
   ]
  },
  {
   "cell_type": "markdown",
   "metadata": {},
   "source": [
    "#### Observations:\n",
    "Korean and Vietnamese cuisines have a median time of food preparation that is the lowest compared to all the other cuisines. Meanwhile Italian, Thai, and Spanish have a median time of food preparation that is the highest compared to the other cuisines. This means that based on the data Korean and Vietnamese cuisines are faster to prep while Italian, Thai, and Spanish cuisines take a longer time to prep their food. "
   ]
  },
  {
   "cell_type": "markdown",
   "metadata": {
    "id": "YLkMf09YJY_V"
   },
   "source": [
    "### **Question 13:** The company wants to provide a promotional offer in the advertisement of the restaurants. The condition to get the offer is that the restaurants must have a rating count of more than 50 and the average rating should be greater than 4. Find the restaurants fulfilling the criteria to get the promotional offer. "
   ]
  },
  {
   "cell_type": "code",
   "execution_count": 102,
   "metadata": {},
   "outputs": [],
   "source": [
    "df_norating = df.copy() #first I made a copy of the data set in order to create a dataset that only contained restaurants that had ratings"
   ]
  },
  {
   "cell_type": "code",
   "execution_count": 116,
   "metadata": {},
   "outputs": [
    {
     "data": {
      "text/html": [
       "<div>\n",
       "<style scoped>\n",
       "    .dataframe tbody tr th:only-of-type {\n",
       "        vertical-align: middle;\n",
       "    }\n",
       "\n",
       "    .dataframe tbody tr th {\n",
       "        vertical-align: top;\n",
       "    }\n",
       "\n",
       "    .dataframe thead th {\n",
       "        text-align: right;\n",
       "    }\n",
       "</style>\n",
       "<table border=\"1\" class=\"dataframe\">\n",
       "  <thead>\n",
       "    <tr style=\"text-align: right;\">\n",
       "      <th></th>\n",
       "      <th>order_id</th>\n",
       "      <th>customer_id</th>\n",
       "      <th>restaurant_name</th>\n",
       "      <th>cuisine_type</th>\n",
       "      <th>cost_of_the_order</th>\n",
       "      <th>day_of_the_week</th>\n",
       "      <th>rating</th>\n",
       "      <th>food_preparation_time</th>\n",
       "      <th>delivery_time</th>\n",
       "      <th>total_time</th>\n",
       "    </tr>\n",
       "  </thead>\n",
       "  <tbody>\n",
       "    <tr>\n",
       "      <th>2</th>\n",
       "      <td>1477070</td>\n",
       "      <td>66393</td>\n",
       "      <td>Cafe Habana</td>\n",
       "      <td>Mexican</td>\n",
       "      <td>12.230000</td>\n",
       "      <td>Weekday</td>\n",
       "      <td>5</td>\n",
       "      <td>23</td>\n",
       "      <td>28</td>\n",
       "      <td>51</td>\n",
       "    </tr>\n",
       "    <tr>\n",
       "      <th>3</th>\n",
       "      <td>1477334</td>\n",
       "      <td>106968</td>\n",
       "      <td>Blue Ribbon Fried Chicken</td>\n",
       "      <td>American</td>\n",
       "      <td>29.200000</td>\n",
       "      <td>Weekend</td>\n",
       "      <td>3</td>\n",
       "      <td>25</td>\n",
       "      <td>15</td>\n",
       "      <td>40</td>\n",
       "    </tr>\n",
       "    <tr>\n",
       "      <th>4</th>\n",
       "      <td>1478249</td>\n",
       "      <td>76942</td>\n",
       "      <td>Dirty Bird to Go</td>\n",
       "      <td>American</td>\n",
       "      <td>11.590000</td>\n",
       "      <td>Weekday</td>\n",
       "      <td>4</td>\n",
       "      <td>25</td>\n",
       "      <td>24</td>\n",
       "      <td>49</td>\n",
       "    </tr>\n",
       "    <tr>\n",
       "      <th>5</th>\n",
       "      <td>1477224</td>\n",
       "      <td>147468</td>\n",
       "      <td>Tamarind TriBeCa</td>\n",
       "      <td>Indian</td>\n",
       "      <td>25.220000</td>\n",
       "      <td>Weekday</td>\n",
       "      <td>3</td>\n",
       "      <td>20</td>\n",
       "      <td>24</td>\n",
       "      <td>44</td>\n",
       "    </tr>\n",
       "    <tr>\n",
       "      <th>7</th>\n",
       "      <td>1477859</td>\n",
       "      <td>89574</td>\n",
       "      <td>Barbounia</td>\n",
       "      <td>Mediterranean</td>\n",
       "      <td>5.970000</td>\n",
       "      <td>Weekday</td>\n",
       "      <td>3</td>\n",
       "      <td>33</td>\n",
       "      <td>30</td>\n",
       "      <td>63</td>\n",
       "    </tr>\n",
       "    <tr>\n",
       "      <th>...</th>\n",
       "      <td>...</td>\n",
       "      <td>...</td>\n",
       "      <td>...</td>\n",
       "      <td>...</td>\n",
       "      <td>...</td>\n",
       "      <td>...</td>\n",
       "      <td>...</td>\n",
       "      <td>...</td>\n",
       "      <td>...</td>\n",
       "      <td>...</td>\n",
       "    </tr>\n",
       "    <tr>\n",
       "      <th>1889</th>\n",
       "      <td>1478190</td>\n",
       "      <td>94152</td>\n",
       "      <td>RedFarm Broadway</td>\n",
       "      <td>Chinese</td>\n",
       "      <td>8.680000</td>\n",
       "      <td>Weekday</td>\n",
       "      <td>3</td>\n",
       "      <td>33</td>\n",
       "      <td>30</td>\n",
       "      <td>63</td>\n",
       "    </tr>\n",
       "    <tr>\n",
       "      <th>1890</th>\n",
       "      <td>1477316</td>\n",
       "      <td>164776</td>\n",
       "      <td>TAO</td>\n",
       "      <td>Japanese</td>\n",
       "      <td>15.670000</td>\n",
       "      <td>Weekend</td>\n",
       "      <td>5</td>\n",
       "      <td>20</td>\n",
       "      <td>22</td>\n",
       "      <td>42</td>\n",
       "    </tr>\n",
       "    <tr>\n",
       "      <th>1893</th>\n",
       "      <td>1476701</td>\n",
       "      <td>292602</td>\n",
       "      <td>Chipotle Mexican Grill $1.99 Delivery</td>\n",
       "      <td>Mexican</td>\n",
       "      <td>22.310000</td>\n",
       "      <td>Weekend</td>\n",
       "      <td>5</td>\n",
       "      <td>31</td>\n",
       "      <td>17</td>\n",
       "      <td>48</td>\n",
       "    </tr>\n",
       "    <tr>\n",
       "      <th>1894</th>\n",
       "      <td>1477421</td>\n",
       "      <td>397537</td>\n",
       "      <td>The Smile</td>\n",
       "      <td>American</td>\n",
       "      <td>12.180000</td>\n",
       "      <td>Weekend</td>\n",
       "      <td>5</td>\n",
       "      <td>31</td>\n",
       "      <td>19</td>\n",
       "      <td>50</td>\n",
       "    </tr>\n",
       "    <tr>\n",
       "      <th>1896</th>\n",
       "      <td>1477513</td>\n",
       "      <td>64151</td>\n",
       "      <td>Jack's Wife Freda</td>\n",
       "      <td>Mediterranean</td>\n",
       "      <td>12.180000</td>\n",
       "      <td>Weekday</td>\n",
       "      <td>5</td>\n",
       "      <td>23</td>\n",
       "      <td>31</td>\n",
       "      <td>54</td>\n",
       "    </tr>\n",
       "  </tbody>\n",
       "</table>\n",
       "<p>1162 rows × 10 columns</p>\n",
       "</div>"
      ],
      "text/plain": [
       "      order_id  customer_id                        restaurant_name  \\\n",
       "2      1477070        66393                            Cafe Habana   \n",
       "3      1477334       106968              Blue Ribbon Fried Chicken   \n",
       "4      1478249        76942                       Dirty Bird to Go   \n",
       "5      1477224       147468                       Tamarind TriBeCa   \n",
       "7      1477859        89574                              Barbounia   \n",
       "...        ...          ...                                    ...   \n",
       "1889   1478190        94152                       RedFarm Broadway   \n",
       "1890   1477316       164776                                    TAO   \n",
       "1893   1476701       292602  Chipotle Mexican Grill $1.99 Delivery   \n",
       "1894   1477421       397537                              The Smile   \n",
       "1896   1477513        64151                      Jack's Wife Freda   \n",
       "\n",
       "       cuisine_type  cost_of_the_order day_of_the_week rating  \\\n",
       "2           Mexican          12.230000         Weekday      5   \n",
       "3          American          29.200000         Weekend      3   \n",
       "4          American          11.590000         Weekday      4   \n",
       "5            Indian          25.220000         Weekday      3   \n",
       "7     Mediterranean           5.970000         Weekday      3   \n",
       "...             ...                ...             ...    ...   \n",
       "1889        Chinese           8.680000         Weekday      3   \n",
       "1890       Japanese          15.670000         Weekend      5   \n",
       "1893        Mexican          22.310000         Weekend      5   \n",
       "1894       American          12.180000         Weekend      5   \n",
       "1896  Mediterranean          12.180000         Weekday      5   \n",
       "\n",
       "      food_preparation_time  delivery_time  total_time  \n",
       "2                        23             28          51  \n",
       "3                        25             15          40  \n",
       "4                        25             24          49  \n",
       "5                        20             24          44  \n",
       "7                        33             30          63  \n",
       "...                     ...            ...         ...  \n",
       "1889                     33             30          63  \n",
       "1890                     20             22          42  \n",
       "1893                     31             17          48  \n",
       "1894                     31             19          50  \n",
       "1896                     23             31          54  \n",
       "\n",
       "[1162 rows x 10 columns]"
      ]
     },
     "execution_count": 116,
     "metadata": {},
     "output_type": "execute_result"
    }
   ],
   "source": [
    "df_norating.drop(df_norating[df_norating['rating'] == 'Not given'].index, inplace = True) #Then I dropped all the columns that were not given a rating\n",
    "df_norating"
   ]
  },
  {
   "cell_type": "code",
   "execution_count": 168,
   "metadata": {},
   "outputs": [
    {
     "data": {
      "text/html": [
       "<div>\n",
       "<style scoped>\n",
       "    .dataframe tbody tr th:only-of-type {\n",
       "        vertical-align: middle;\n",
       "    }\n",
       "\n",
       "    .dataframe tbody tr th {\n",
       "        vertical-align: top;\n",
       "    }\n",
       "\n",
       "    .dataframe thead th {\n",
       "        text-align: right;\n",
       "    }\n",
       "</style>\n",
       "<table border=\"1\" class=\"dataframe\">\n",
       "  <thead>\n",
       "    <tr style=\"text-align: right;\">\n",
       "      <th></th>\n",
       "      <th>restaurant_name</th>\n",
       "      <th>rating</th>\n",
       "    </tr>\n",
       "  </thead>\n",
       "  <tbody>\n",
       "    <tr>\n",
       "      <th>0</th>\n",
       "      <td>'wichcraft</td>\n",
       "      <td>5.000000</td>\n",
       "    </tr>\n",
       "    <tr>\n",
       "      <th>1</th>\n",
       "      <td>12 Chairs</td>\n",
       "      <td>22.500000</td>\n",
       "    </tr>\n",
       "    <tr>\n",
       "      <th>2</th>\n",
       "      <td>5 Napkin Burger</td>\n",
       "      <td>17.500000</td>\n",
       "    </tr>\n",
       "    <tr>\n",
       "      <th>3</th>\n",
       "      <td>67 Burger</td>\n",
       "      <td>5.000000</td>\n",
       "    </tr>\n",
       "    <tr>\n",
       "      <th>4</th>\n",
       "      <td>Amma</td>\n",
       "      <td>22.500000</td>\n",
       "    </tr>\n",
       "    <tr>\n",
       "      <th>...</th>\n",
       "      <td>...</td>\n",
       "      <td>...</td>\n",
       "    </tr>\n",
       "    <tr>\n",
       "      <th>151</th>\n",
       "      <td>Zero Otto Nove</td>\n",
       "      <td>4.000000</td>\n",
       "    </tr>\n",
       "    <tr>\n",
       "      <th>152</th>\n",
       "      <td>brgr</td>\n",
       "      <td>3.000000</td>\n",
       "    </tr>\n",
       "    <tr>\n",
       "      <th>153</th>\n",
       "      <td>da Umberto</td>\n",
       "      <td>5.000000</td>\n",
       "    </tr>\n",
       "    <tr>\n",
       "      <th>154</th>\n",
       "      <td>ilili Restaurant</td>\n",
       "      <td>349503495719.538452</td>\n",
       "    </tr>\n",
       "    <tr>\n",
       "      <th>155</th>\n",
       "      <td>indikitch</td>\n",
       "      <td>27.000000</td>\n",
       "    </tr>\n",
       "  </tbody>\n",
       "</table>\n",
       "<p>156 rows × 2 columns</p>\n",
       "</div>"
      ],
      "text/plain": [
       "      restaurant_name              rating\n",
       "0          'wichcraft            5.000000\n",
       "1           12 Chairs           22.500000\n",
       "2     5 Napkin Burger           17.500000\n",
       "3           67 Burger            5.000000\n",
       "4                Amma           22.500000\n",
       "..                ...                 ...\n",
       "151    Zero Otto Nove            4.000000\n",
       "152              brgr            3.000000\n",
       "153        da Umberto            5.000000\n",
       "154  ilili Restaurant 349503495719.538452\n",
       "155         indikitch           27.000000\n",
       "\n",
       "[156 rows x 2 columns]"
      ]
     },
     "execution_count": 168,
     "metadata": {},
     "output_type": "execute_result"
    }
   ],
   "source": [
    "avg_rating = df_norating.groupby('restaurant_name')[['rating']].mean().reset_index() #Then I created a new table using the groupby function that contained the restaurant name and the mean rating of each restaurant \n",
    "avg_rating"
   ]
  },
  {
   "cell_type": "code",
   "execution_count": 128,
   "metadata": {},
   "outputs": [
    {
     "data": {
      "text/html": [
       "<div>\n",
       "<style scoped>\n",
       "    .dataframe tbody tr th:only-of-type {\n",
       "        vertical-align: middle;\n",
       "    }\n",
       "\n",
       "    .dataframe tbody tr th {\n",
       "        vertical-align: top;\n",
       "    }\n",
       "\n",
       "    .dataframe thead th {\n",
       "        text-align: right;\n",
       "    }\n",
       "</style>\n",
       "<table border=\"1\" class=\"dataframe\">\n",
       "  <thead>\n",
       "    <tr style=\"text-align: right;\">\n",
       "      <th></th>\n",
       "      <th>restaurant_name</th>\n",
       "      <th>Avg_rating</th>\n",
       "    </tr>\n",
       "  </thead>\n",
       "  <tbody>\n",
       "    <tr>\n",
       "      <th>0</th>\n",
       "      <td>'wichcraft</td>\n",
       "      <td>5.000000</td>\n",
       "    </tr>\n",
       "    <tr>\n",
       "      <th>1</th>\n",
       "      <td>12 Chairs</td>\n",
       "      <td>22.500000</td>\n",
       "    </tr>\n",
       "    <tr>\n",
       "      <th>2</th>\n",
       "      <td>5 Napkin Burger</td>\n",
       "      <td>17.500000</td>\n",
       "    </tr>\n",
       "    <tr>\n",
       "      <th>3</th>\n",
       "      <td>67 Burger</td>\n",
       "      <td>5.000000</td>\n",
       "    </tr>\n",
       "    <tr>\n",
       "      <th>4</th>\n",
       "      <td>Amma</td>\n",
       "      <td>22.500000</td>\n",
       "    </tr>\n",
       "  </tbody>\n",
       "</table>\n",
       "</div>"
      ],
      "text/plain": [
       "   restaurant_name  Avg_rating\n",
       "0       'wichcraft    5.000000\n",
       "1        12 Chairs   22.500000\n",
       "2  5 Napkin Burger   17.500000\n",
       "3        67 Burger    5.000000\n",
       "4             Amma   22.500000"
      ]
     },
     "execution_count": 128,
     "metadata": {},
     "output_type": "execute_result"
    }
   ],
   "source": [
    "avg_rating.rename(columns={'rating':'Avg_rating'},inplace=True) #then I changed the name of the column to avg_rating\n",
    "avg_rating.head()"
   ]
  },
  {
   "cell_type": "code",
   "execution_count": 130,
   "metadata": {},
   "outputs": [
    {
     "data": {
      "text/html": [
       "<div>\n",
       "<style scoped>\n",
       "    .dataframe tbody tr th:only-of-type {\n",
       "        vertical-align: middle;\n",
       "    }\n",
       "\n",
       "    .dataframe tbody tr th {\n",
       "        vertical-align: top;\n",
       "    }\n",
       "\n",
       "    .dataframe thead th {\n",
       "        text-align: right;\n",
       "    }\n",
       "</style>\n",
       "<table border=\"1\" class=\"dataframe\">\n",
       "  <thead>\n",
       "    <tr style=\"text-align: right;\">\n",
       "      <th></th>\n",
       "      <th>restaurant_name</th>\n",
       "      <th>Avg_rating</th>\n",
       "    </tr>\n",
       "  </thead>\n",
       "  <tbody>\n",
       "    <tr>\n",
       "      <th>0</th>\n",
       "      <td>'wichcraft</td>\n",
       "      <td>5.000000</td>\n",
       "    </tr>\n",
       "    <tr>\n",
       "      <th>1</th>\n",
       "      <td>12 Chairs</td>\n",
       "      <td>22.500000</td>\n",
       "    </tr>\n",
       "    <tr>\n",
       "      <th>2</th>\n",
       "      <td>5 Napkin Burger</td>\n",
       "      <td>17.500000</td>\n",
       "    </tr>\n",
       "    <tr>\n",
       "      <th>3</th>\n",
       "      <td>67 Burger</td>\n",
       "      <td>5.000000</td>\n",
       "    </tr>\n",
       "    <tr>\n",
       "      <th>4</th>\n",
       "      <td>Amma</td>\n",
       "      <td>22.500000</td>\n",
       "    </tr>\n",
       "    <tr>\n",
       "      <th>...</th>\n",
       "      <td>...</td>\n",
       "      <td>...</td>\n",
       "    </tr>\n",
       "    <tr>\n",
       "      <th>149</th>\n",
       "      <td>Yama 49</td>\n",
       "      <td>1388.750000</td>\n",
       "    </tr>\n",
       "    <tr>\n",
       "      <th>150</th>\n",
       "      <td>Yama Japanese Restaurant</td>\n",
       "      <td>6943191.750000</td>\n",
       "    </tr>\n",
       "    <tr>\n",
       "      <th>153</th>\n",
       "      <td>da Umberto</td>\n",
       "      <td>5.000000</td>\n",
       "    </tr>\n",
       "    <tr>\n",
       "      <th>154</th>\n",
       "      <td>ilili Restaurant</td>\n",
       "      <td>349503495719.538452</td>\n",
       "    </tr>\n",
       "    <tr>\n",
       "      <th>155</th>\n",
       "      <td>indikitch</td>\n",
       "      <td>27.000000</td>\n",
       "    </tr>\n",
       "  </tbody>\n",
       "</table>\n",
       "<p>133 rows × 2 columns</p>\n",
       "</div>"
      ],
      "text/plain": [
       "              restaurant_name          Avg_rating\n",
       "0                  'wichcraft            5.000000\n",
       "1                   12 Chairs           22.500000\n",
       "2             5 Napkin Burger           17.500000\n",
       "3                   67 Burger            5.000000\n",
       "4                        Amma           22.500000\n",
       "..                        ...                 ...\n",
       "149                   Yama 49         1388.750000\n",
       "150  Yama Japanese Restaurant      6943191.750000\n",
       "153                da Umberto            5.000000\n",
       "154          ilili Restaurant 349503495719.538452\n",
       "155                 indikitch           27.000000\n",
       "\n",
       "[133 rows x 2 columns]"
      ]
     },
     "execution_count": 130,
     "metadata": {},
     "output_type": "execute_result"
    }
   ],
   "source": [
    "avg_rating[avg_rating['Avg_rating']>4] #then I found the ratings that were greater than 4"
   ]
  },
  {
   "cell_type": "code",
   "execution_count": 131,
   "metadata": {},
   "outputs": [
    {
     "data": {
      "text/html": [
       "<div>\n",
       "<style scoped>\n",
       "    .dataframe tbody tr th:only-of-type {\n",
       "        vertical-align: middle;\n",
       "    }\n",
       "\n",
       "    .dataframe tbody tr th {\n",
       "        vertical-align: top;\n",
       "    }\n",
       "\n",
       "    .dataframe thead th {\n",
       "        text-align: right;\n",
       "    }\n",
       "</style>\n",
       "<table border=\"1\" class=\"dataframe\">\n",
       "  <thead>\n",
       "    <tr style=\"text-align: right;\">\n",
       "      <th></th>\n",
       "      <th>restaurant_name</th>\n",
       "      <th>rating</th>\n",
       "    </tr>\n",
       "  </thead>\n",
       "  <tbody>\n",
       "    <tr>\n",
       "      <th>0</th>\n",
       "      <td>'wichcraft</td>\n",
       "      <td>1</td>\n",
       "    </tr>\n",
       "    <tr>\n",
       "      <th>1</th>\n",
       "      <td>12 Chairs</td>\n",
       "      <td>2</td>\n",
       "    </tr>\n",
       "    <tr>\n",
       "      <th>2</th>\n",
       "      <td>5 Napkin Burger</td>\n",
       "      <td>2</td>\n",
       "    </tr>\n",
       "    <tr>\n",
       "      <th>3</th>\n",
       "      <td>67 Burger</td>\n",
       "      <td>1</td>\n",
       "    </tr>\n",
       "    <tr>\n",
       "      <th>4</th>\n",
       "      <td>Amma</td>\n",
       "      <td>2</td>\n",
       "    </tr>\n",
       "    <tr>\n",
       "      <th>...</th>\n",
       "      <td>...</td>\n",
       "      <td>...</td>\n",
       "    </tr>\n",
       "    <tr>\n",
       "      <th>151</th>\n",
       "      <td>Zero Otto Nove</td>\n",
       "      <td>1</td>\n",
       "    </tr>\n",
       "    <tr>\n",
       "      <th>152</th>\n",
       "      <td>brgr</td>\n",
       "      <td>1</td>\n",
       "    </tr>\n",
       "    <tr>\n",
       "      <th>153</th>\n",
       "      <td>da Umberto</td>\n",
       "      <td>1</td>\n",
       "    </tr>\n",
       "    <tr>\n",
       "      <th>154</th>\n",
       "      <td>ilili Restaurant</td>\n",
       "      <td>13</td>\n",
       "    </tr>\n",
       "    <tr>\n",
       "      <th>155</th>\n",
       "      <td>indikitch</td>\n",
       "      <td>2</td>\n",
       "    </tr>\n",
       "  </tbody>\n",
       "</table>\n",
       "<p>156 rows × 2 columns</p>\n",
       "</div>"
      ],
      "text/plain": [
       "      restaurant_name  rating\n",
       "0          'wichcraft       1\n",
       "1           12 Chairs       2\n",
       "2     5 Napkin Burger       2\n",
       "3           67 Burger       1\n",
       "4                Amma       2\n",
       "..                ...     ...\n",
       "151    Zero Otto Nove       1\n",
       "152              brgr       1\n",
       "153        da Umberto       1\n",
       "154  ilili Restaurant      13\n",
       "155         indikitch       2\n",
       "\n",
       "[156 rows x 2 columns]"
      ]
     },
     "execution_count": 131,
     "metadata": {},
     "output_type": "execute_result"
    }
   ],
   "source": [
    "restaurant_count = df_norating.groupby(['restaurant_name'])['rating'].count().reset_index() #in order to find the rating count I created a new table with the groupby function that combined the restaurant name and the number of ratings they had. In order to find the number of ratings each restaurant had I used the count() function. \n",
    "restaurant_count "
   ]
  },
  {
   "cell_type": "code",
   "execution_count": 132,
   "metadata": {},
   "outputs": [
    {
     "data": {
      "text/html": [
       "<div>\n",
       "<style scoped>\n",
       "    .dataframe tbody tr th:only-of-type {\n",
       "        vertical-align: middle;\n",
       "    }\n",
       "\n",
       "    .dataframe tbody tr th {\n",
       "        vertical-align: top;\n",
       "    }\n",
       "\n",
       "    .dataframe thead th {\n",
       "        text-align: right;\n",
       "    }\n",
       "</style>\n",
       "<table border=\"1\" class=\"dataframe\">\n",
       "  <thead>\n",
       "    <tr style=\"text-align: right;\">\n",
       "      <th></th>\n",
       "      <th>restaurant_name</th>\n",
       "      <th>Rating_counts</th>\n",
       "    </tr>\n",
       "  </thead>\n",
       "  <tbody>\n",
       "    <tr>\n",
       "      <th>0</th>\n",
       "      <td>'wichcraft</td>\n",
       "      <td>1</td>\n",
       "    </tr>\n",
       "    <tr>\n",
       "      <th>1</th>\n",
       "      <td>12 Chairs</td>\n",
       "      <td>2</td>\n",
       "    </tr>\n",
       "    <tr>\n",
       "      <th>2</th>\n",
       "      <td>5 Napkin Burger</td>\n",
       "      <td>2</td>\n",
       "    </tr>\n",
       "    <tr>\n",
       "      <th>3</th>\n",
       "      <td>67 Burger</td>\n",
       "      <td>1</td>\n",
       "    </tr>\n",
       "    <tr>\n",
       "      <th>4</th>\n",
       "      <td>Amma</td>\n",
       "      <td>2</td>\n",
       "    </tr>\n",
       "  </tbody>\n",
       "</table>\n",
       "</div>"
      ],
      "text/plain": [
       "   restaurant_name  Rating_counts\n",
       "0       'wichcraft              1\n",
       "1        12 Chairs              2\n",
       "2  5 Napkin Burger              2\n",
       "3        67 Burger              1\n",
       "4             Amma              2"
      ]
     },
     "execution_count": 132,
     "metadata": {},
     "output_type": "execute_result"
    }
   ],
   "source": [
    "restaurant_count.rename(columns={'rating':'Rating_counts'},inplace=True) #then i changed the column name to rating_counts\n",
    "restaurant_count.head()"
   ]
  },
  {
   "cell_type": "code",
   "execution_count": 133,
   "metadata": {},
   "outputs": [
    {
     "data": {
      "text/html": [
       "<div>\n",
       "<style scoped>\n",
       "    .dataframe tbody tr th:only-of-type {\n",
       "        vertical-align: middle;\n",
       "    }\n",
       "\n",
       "    .dataframe tbody tr th {\n",
       "        vertical-align: top;\n",
       "    }\n",
       "\n",
       "    .dataframe thead th {\n",
       "        text-align: right;\n",
       "    }\n",
       "</style>\n",
       "<table border=\"1\" class=\"dataframe\">\n",
       "  <thead>\n",
       "    <tr style=\"text-align: right;\">\n",
       "      <th></th>\n",
       "      <th>restaurant_name</th>\n",
       "      <th>Rating_counts</th>\n",
       "    </tr>\n",
       "  </thead>\n",
       "  <tbody>\n",
       "    <tr>\n",
       "      <th>16</th>\n",
       "      <td>Blue Ribbon Fried Chicken</td>\n",
       "      <td>64</td>\n",
       "    </tr>\n",
       "    <tr>\n",
       "      <th>17</th>\n",
       "      <td>Blue Ribbon Sushi</td>\n",
       "      <td>73</td>\n",
       "    </tr>\n",
       "    <tr>\n",
       "      <th>117</th>\n",
       "      <td>Shake Shack</td>\n",
       "      <td>133</td>\n",
       "    </tr>\n",
       "    <tr>\n",
       "      <th>132</th>\n",
       "      <td>The Meatball Shop</td>\n",
       "      <td>84</td>\n",
       "    </tr>\n",
       "  </tbody>\n",
       "</table>\n",
       "</div>"
      ],
      "text/plain": [
       "               restaurant_name  Rating_counts\n",
       "16   Blue Ribbon Fried Chicken             64\n",
       "17           Blue Ribbon Sushi             73\n",
       "117                Shake Shack            133\n",
       "132          The Meatball Shop             84"
      ]
     },
     "execution_count": 133,
     "metadata": {},
     "output_type": "execute_result"
    }
   ],
   "source": [
    "restaurant_50 = restaurant_count[restaurant_count['Rating_counts']>50] #then I selected the restaurant names that had more than 50 ratings\n",
    "restaurant_50"
   ]
  },
  {
   "cell_type": "code",
   "execution_count": 135,
   "metadata": {},
   "outputs": [
    {
     "data": {
      "text/html": [
       "<div>\n",
       "<style scoped>\n",
       "    .dataframe tbody tr th:only-of-type {\n",
       "        vertical-align: middle;\n",
       "    }\n",
       "\n",
       "    .dataframe tbody tr th {\n",
       "        vertical-align: top;\n",
       "    }\n",
       "\n",
       "    .dataframe thead th {\n",
       "        text-align: right;\n",
       "    }\n",
       "</style>\n",
       "<table border=\"1\" class=\"dataframe\">\n",
       "  <thead>\n",
       "    <tr style=\"text-align: right;\">\n",
       "      <th></th>\n",
       "      <th>restaurant_name</th>\n",
       "      <th>Avg_rating</th>\n",
       "      <th>Rating_counts</th>\n",
       "    </tr>\n",
       "  </thead>\n",
       "  <tbody>\n",
       "    <tr>\n",
       "      <th>0</th>\n",
       "      <td>Blue Ribbon Fried Chicken</td>\n",
       "      <td>55522741475711807919461057470141387359084904201...</td>\n",
       "      <td>64</td>\n",
       "    </tr>\n",
       "    <tr>\n",
       "      <th>1</th>\n",
       "      <td>Blue Ribbon Sushi</td>\n",
       "      <td>60897732127867884336881233990148016216967042749...</td>\n",
       "      <td>73</td>\n",
       "    </tr>\n",
       "    <tr>\n",
       "      <th>2</th>\n",
       "      <td>Shake Shack</td>\n",
       "      <td>41770183108611616557607093322651119261205301205...</td>\n",
       "      <td>133</td>\n",
       "    </tr>\n",
       "    <tr>\n",
       "      <th>3</th>\n",
       "      <td>The Meatball Shop</td>\n",
       "      <td>64946970887564690095046783185299118780529486559...</td>\n",
       "      <td>84</td>\n",
       "    </tr>\n",
       "  </tbody>\n",
       "</table>\n",
       "</div>"
      ],
      "text/plain": [
       "             restaurant_name  \\\n",
       "0  Blue Ribbon Fried Chicken   \n",
       "1          Blue Ribbon Sushi   \n",
       "2                Shake Shack   \n",
       "3          The Meatball Shop   \n",
       "\n",
       "                                          Avg_rating  Rating_counts  \n",
       "0 55522741475711807919461057470141387359084904201...             64  \n",
       "1 60897732127867884336881233990148016216967042749...             73  \n",
       "2 41770183108611616557607093322651119261205301205...            133  \n",
       "3 64946970887564690095046783185299118780529486559...             84  "
      ]
     },
     "execution_count": 135,
     "metadata": {},
     "output_type": "execute_result"
    }
   ],
   "source": [
    "df_top= avg_rating.merge(restaurant_50, on = 'restaurant_name', how = 'inner') #then I merged the average rating table with the rating counts table \n",
    "df_top"
   ]
  },
  {
   "cell_type": "markdown",
   "metadata": {
    "id": "10uryUMhJY_V"
   },
   "source": [
    "#### Observations:\n",
    "Blue Ribbon Fried Chicken, Blue Ribbon Sushi, Shake Shack, and The Meatball Shop are elligible for a promotional offer from FoodHub with a rating count of more than 50 and the average rating greater than 4. "
   ]
  },
  {
   "cell_type": "markdown",
   "metadata": {
    "id": "1gvWBkRUJY_V"
   },
   "source": [
    "### **Question 14:** The company charges the restaurant 25% on the orders having cost greater than 20 dollars and 15% on the orders having cost greater than 5 dollars. Find the net revenue generated by the company across all orders."
   ]
  },
  {
   "cell_type": "code",
   "execution_count": 58,
   "metadata": {},
   "outputs": [
    {
     "data": {
      "text/plain": [
       "array([30.75, 12.08, 12.23, 29.2 , 11.59, 25.22,  6.07,  5.97, 16.44,\n",
       "        7.18,  5.92,  8.1 , 24.3 , 11.3 , 12.13, 16.2 , 16.98, 33.03,\n",
       "       14.12, 24.2 , 15.91, 29.1 ,  8.92, 15.86, 21.88, 14.02,  9.17,\n",
       "       12.18, 31.33, 29.05,  8.39,  9.12, 15.47, 16.01, 29.83, 19.89,\n",
       "       19.35, 33.22, 24.25, 22.75,  6.74, 13.78, 16.93, 29.39, 20.23,\n",
       "       14.6 ,  6.79, 31.38,  8.34, 12.46, 14.55, 32.93,  8.  , 13.05,\n",
       "        5.67, 29.29, 16.15, 13.34,  9.75,  6.69,  4.75, 12.56, 21.2 ,\n",
       "       19.31, 16.3 , 25.27, 14.79,  5.72,  9.22, 16.39, 17.03, 21.83,\n",
       "       31.29, 11.83, 22.26, 20.47, 15.81, 22.36,  8.68, 12.9 , 29.15,\n",
       "        7.86, 16.1 , 12.95, 11.69, 12.32, 14.99, 10.38,  9.65,  5.77,\n",
       "        9.56, 29.34, 11.16, 14.07, 22.8 , 15.23, 16.49,  8.83, 16.25,\n",
       "       16.83, 10.24, 19.4 , 13.97, 13.  ,  8.49, 20.18, 19.59, 16.11,\n",
       "       12.27, 13.39,  9.02, 15.33, 31.43, 29.35, 15.28,  9.6 ,  8.88,\n",
       "       15.96,  8.05,  8.54,  7.23, 19.69,  9.27,  8.97, 11.64, 13.15,\n",
       "        9.41,  9.07, 14.46,  6.7 , 19.45, 12.22, 29.25, 16.05, 17.08,\n",
       "       32.98, 13.73, 14.31, 14.7 , 15.52,  6.11, 21.93, 15.76,  9.46,\n",
       "       12.61, 22.85, 16.06, 21.39,  8.25, 14.94, 14.26, 21.34, 14.16,\n",
       "        5.68, 15.57, 14.45,  8.15,  8.78,  8.59, 15.62,  5.87,  6.01,\n",
       "        9.85,  6.84,  5.82,  7.96,  9.7 ,  4.85,  6.06, 12.66,  6.02,\n",
       "        7.08, 12.37, 14.84, 22.31, 13.1 , 14.75, 24.35, 25.17,  9.26,\n",
       "        9.55, 13.92,  4.66, 13.87,  7.61, 15.72,  8.35, 14.21, 14.65,\n",
       "        4.71,  8.63, 13.68, 11.93, 35.41,  6.64, 10.72,  8.73, 16.78,\n",
       "        5.58, 13.63, 29.54, 29.49, 15.04, 18.24,  4.47,  8.98, 15.71,\n",
       "        8.93,  9.51,  9.61,  7.38, 13.19, 10.82,  6.26,  8.2 ,  7.33,\n",
       "       12.71,  5.63, 17.07,  5.48, 22.12, 15.77,  6.45, 11.79, 11.98,\n",
       "       20.32, 28.57, 22.07, 21.29, 14.41, 29.88,  4.8 , 10.14,  8.44,\n",
       "       16.54,  7.71, 29.78, 31.86, 19.98, 12.42, 12.52, 15.38,  8.3 ,\n",
       "       13.24,  8.01, 29.68,  9.32, 12.51,  5.34,  6.4 , 19.3 , 17.85,\n",
       "       16.88, 13.77,  5.73, 11.84, 15.67, 13.58, 33.18,  6.55, 20.52,\n",
       "       28.62, 15.18, 29.3 , 12.81, 29.44, 11.11, 14.5 , 22.02, 11.88,\n",
       "       33.32, 18.43, 12.47, 20.13, 20.57, 15.09, 19.74, 18.04, 31.67,\n",
       "        5.05,  7.03, 14.8 , 12.17,  7.28, 15.13,  7.81, 16.74,  9.31,\n",
       "       21.25, 31.87, 19.02, 34.19,  5.53, 22.46, 29.73, 10.43, 19.5 ,\n",
       "        4.9 , 15.37,  7.67,  7.91, 13.53, 33.37, 19.6 , 13.48, 20.71,\n",
       "       20.61,  7.66, 10.86,  7.95, 20.86, 29.59])"
      ]
     },
     "execution_count": 58,
     "metadata": {},
     "output_type": "execute_result"
    }
   ],
   "source": [
    "df['cost_of_the_order'].unique() #first I selected each value from the cost_of_the_order column "
   ]
  },
  {
   "cell_type": "code",
   "execution_count": 61,
   "metadata": {},
   "outputs": [],
   "source": [
    "cost = [30.75, 12.08, 12.23, 29.2 , 11.59, 25.22,  6.07,  5.97, 16.44,\n",
    "        7.18,  5.92,  8.1 , 24.3 , 11.3 , 12.13, 16.2 , 16.98, 33.03,\n",
    "       14.12, 24.2 , 15.91, 29.1 ,  8.92, 15.86, 21.88, 14.02,  9.17,\n",
    "       12.18, 31.33, 29.05,  8.39,  9.12, 15.47, 16.01, 29.83, 19.89,\n",
    "       19.35, 33.22, 24.25, 22.75,  6.74, 13.78, 16.93, 29.39, 20.23,\n",
    "       14.6 ,  6.79, 31.38,  8.34, 12.46, 14.55, 32.93,  8.  , 13.05,\n",
    "        5.67, 29.29, 16.15, 13.34,  9.75,  6.69,  4.75, 12.56, 21.2 ,\n",
    "       19.31, 16.3 , 25.27, 14.79,  5.72,  9.22, 16.39, 17.03, 21.83,\n",
    "       31.29, 11.83, 22.26, 20.47, 15.81, 22.36,  8.68, 12.9 , 29.15,\n",
    "        7.86, 16.1 , 12.95, 11.69, 12.32, 14.99, 10.38,  9.65,  5.77,\n",
    "        9.56, 29.34, 11.16, 14.07, 22.8 , 15.23, 16.49,  8.83, 16.25,\n",
    "       16.83, 10.24, 19.4 , 13.97, 13.  ,  8.49, 20.18, 19.59, 16.11,\n",
    "       12.27, 13.39,  9.02, 15.33, 31.43, 29.35, 15.28,  9.6 ,  8.88,\n",
    "       15.96,  8.05,  8.54,  7.23, 19.69,  9.27,  8.97, 11.64, 13.15,\n",
    "        9.41,  9.07, 14.46,  6.7 , 19.45, 12.22, 29.25, 16.05, 17.08,\n",
    "       32.98, 13.73, 14.31, 14.7 , 15.52,  6.11, 21.93, 15.76,  9.46,\n",
    "       12.61, 22.85, 16.06, 21.39,  8.25, 14.94, 14.26, 21.34, 14.16,\n",
    "        5.68, 15.57, 14.45,  8.15,  8.78,  8.59, 15.62,  5.87,  6.01,\n",
    "        9.85,  6.84,  5.82,  7.96,  9.7 ,  4.85,  6.06, 12.66,  6.02,\n",
    "        7.08, 12.37, 14.84, 22.31, 13.1 , 14.75, 24.35, 25.17,  9.26,\n",
    "        9.55, 13.92,  4.66, 13.87,  7.61, 15.72,  8.35, 14.21, 14.65,\n",
    "        4.71,  8.63, 13.68, 11.93, 35.41,  6.64, 10.72,  8.73, 16.78,\n",
    "        5.58, 13.63, 29.54, 29.49, 15.04, 18.24,  4.47,  8.98, 15.71,\n",
    "        8.93,  9.51,  9.61,  7.38, 13.19, 10.82,  6.26,  8.2 ,  7.33,\n",
    "       12.71,  5.63, 17.07,  5.48, 22.12, 15.77,  6.45, 11.79, 11.98,\n",
    "       20.32, 28.57, 22.07, 21.29, 14.41, 29.88,  4.8 , 10.14,  8.44,\n",
    "       16.54,  7.71, 29.78, 31.86, 19.98, 12.42, 12.52, 15.38,  8.3 ,\n",
    "       13.24,  8.01, 29.68,  9.32, 12.51,  5.34,  6.4 , 19.3 , 17.85,\n",
    "       16.88, 13.77,  5.73, 11.84, 15.67, 13.58, 33.18,  6.55, 20.52,\n",
    "       28.62, 15.18, 29.3 , 12.81, 29.44, 11.11, 14.5 , 22.02, 11.88,\n",
    "       33.32, 18.43, 12.47, 20.13, 20.57, 15.09, 19.74, 18.04, 31.67,\n",
    "        5.05,  7.03, 14.8 , 12.17,  7.28, 15.13,  7.81, 16.74,  9.31,\n",
    "       21.25, 31.87, 19.02, 34.19,  5.53, 22.46, 29.73, 10.43, 19.5 ,\n",
    "        4.9 , 15.37,  7.67,  7.91, 13.53, 33.37, 19.6 , 13.48, 20.71,\n",
    "       20.61,  7.66, 10.86,  7.95, 20.86, 29.59] #then i created a list so that I would be able to run a for loop throughout the list"
   ]
  },
  {
   "cell_type": "code",
   "execution_count": 178,
   "metadata": {},
   "outputs": [
    {
     "name": "stdout",
     "output_type": "stream",
     "text": [
      "The revenue is 901.2690000000007\n"
     ]
    }
   ],
   "source": [
    "rev = 0 #first I set the variable rev to equal to 0 so that the total rev could be calculated\n",
    "for i in cost: #this is my for loop in which each condition will be looped for every value in the cost list \n",
    "    if i > 20: #then i set my if condition because orders greater than 20 are to give the company 25% that is why (i*0.25)\n",
    "        rev=(i*0.25)+rev #in the start of the loop rev = 0 but as the loop goes on the rev of the previous value will continue to be added up\n",
    "    elif i < 20 and i > 5: #then i set my elif condition in which if i <20 and i>5 then the company will charge 15% that is why (i*0.15)\n",
    "        rev=(i*0.15)+rev\n",
    "        \n",
    "print (\"The revenue is\", rev) #this will then after the loop is complete give me the total revenue "
   ]
  },
  {
   "cell_type": "markdown",
   "metadata": {
    "id": "XHCEJgH0JY_W"
   },
   "source": [
    "#### Observations:\n",
    "FoodHub's total revenus from surcharges alone is 901.27 dollars."
   ]
  },
  {
   "cell_type": "markdown",
   "metadata": {
    "id": "pRlVW-oeJY_W"
   },
   "source": [
    "### **Question 15:** The company wants to analyze the total time required to deliver the food. What percentage of orders take more than 60 minutes to get delivered from the time the order is placed? (The food has to be prepared and then delivered.) "
   ]
  },
  {
   "cell_type": "code",
   "execution_count": 24,
   "metadata": {
    "id": "zxoTrxfLJY_W"
   },
   "outputs": [
    {
     "name": "stdout",
     "output_type": "stream",
     "text": [
      "      order_id  customer_id                        restaurant_name  \\\n",
      "0      1477147       337525                                Hangawi   \n",
      "1      1477685       358141              Blue Ribbon Sushi Izakaya   \n",
      "2      1477070        66393                            Cafe Habana   \n",
      "3      1477334       106968              Blue Ribbon Fried Chicken   \n",
      "4      1478249        76942                       Dirty Bird to Go   \n",
      "...        ...          ...                                    ...   \n",
      "1893   1476701       292602  Chipotle Mexican Grill $1.99 Delivery   \n",
      "1894   1477421       397537                              The Smile   \n",
      "1895   1477819        35309                      Blue Ribbon Sushi   \n",
      "1896   1477513        64151                      Jack's Wife Freda   \n",
      "1897   1478056       120353                      Blue Ribbon Sushi   \n",
      "\n",
      "       cuisine_type  cost_of_the_order day_of_the_week     rating  \\\n",
      "0            Korean          30.750000         Weekend  Not given   \n",
      "1          Japanese          12.080000         Weekend  Not given   \n",
      "2           Mexican          12.230000         Weekday          5   \n",
      "3          American          29.200000         Weekend          3   \n",
      "4          American          11.590000         Weekday          4   \n",
      "...             ...                ...             ...        ...   \n",
      "1893        Mexican          22.310000         Weekend          5   \n",
      "1894       American          12.180000         Weekend          5   \n",
      "1895       Japanese          25.220000         Weekday  Not given   \n",
      "1896  Mediterranean          12.180000         Weekday          5   \n",
      "1897       Japanese          19.450000         Weekend  Not given   \n",
      "\n",
      "      food_preparation_time  delivery_time  col3  total_time  \n",
      "0                        25             20    45          45  \n",
      "1                        25             23    48          48  \n",
      "2                        23             28    51          51  \n",
      "3                        25             15    40          40  \n",
      "4                        25             24    49          49  \n",
      "...                     ...            ...   ...         ...  \n",
      "1893                     31             17    48          48  \n",
      "1894                     31             19    50          50  \n",
      "1895                     31             24    55          55  \n",
      "1896                     23             31    54          54  \n",
      "1897                     28             24    52          52  \n",
      "\n",
      "[1898 rows x 11 columns]\n"
     ]
    }
   ],
   "source": [
    "sum_column = df['food_preparation_time'] + df['delivery_time'] #first I add the food prep time and delivery time column to create a total time column\n",
    "df[\"total_time\"] = sum_column\n",
    "print(df)"
   ]
  },
  {
   "cell_type": "code",
   "execution_count": 28,
   "metadata": {},
   "outputs": [
    {
     "data": {
      "text/plain": [
       "(200, 10)"
      ]
     },
     "execution_count": 28,
     "metadata": {},
     "output_type": "execute_result"
    }
   ],
   "source": [
    "df.loc[df['total_time']>60].shape #then I locate the total time that is greater than 60 and then use the shape function to find how many rows of the data have a total time that is greater than 60 "
   ]
  },
  {
   "cell_type": "code",
   "execution_count": 29,
   "metadata": {},
   "outputs": [
    {
     "data": {
      "text/plain": [
       "10.537407797681771"
      ]
     },
     "execution_count": 29,
     "metadata": {},
     "output_type": "execute_result"
    }
   ],
   "source": [
    "200/1898*100 #then I take that number and divide it with the total of orders in the data set multiplied by 100 to find the percentage of orders that take more than 60 minutes to be prepared and delivered."
   ]
  },
  {
   "cell_type": "markdown",
   "metadata": {
    "id": "iqzBXn2yJY_W"
   },
   "source": [
    "#### Observations:\n",
    "10 percent of orders take more than 60 minutes to get delivered from the time the order was placed. After adding up the two columns: food_preparation_time and deliver_time I found that 200 out of the 1898 orders took more than 60 minutes to get delivered from the time the order was placed.\n"
   ]
  },
  {
   "cell_type": "markdown",
   "metadata": {
    "id": "bUd6cYpPJY_W"
   },
   "source": [
    "### **Question 16:** The company wants to analyze the delivery time of the orders on weekdays and weekends. How does the mean delivery time vary during weekdays and weekends? "
   ]
  },
  {
   "cell_type": "code",
   "execution_count": 179,
   "metadata": {},
   "outputs": [
    {
     "data": {
      "text/plain": [
       "<bound method Series.reset_index of day_of_the_week\n",
       "Weekday   28.340037\n",
       "Weekend   22.470022\n",
       "Name: delivery_time, dtype: float64>"
      ]
     },
     "execution_count": 179,
     "metadata": {},
     "output_type": "execute_result"
    }
   ],
   "source": [
    "df.groupby('day_of_the_week')['delivery_time'].mean().reset_index #by using the groupby function the day of the week and the mean of the delivery time are combined"
   ]
  },
  {
   "cell_type": "markdown",
   "metadata": {
    "id": "8H-ODxbVJY_W"
   },
   "source": [
    "#### Observations:\n",
    "On Weekends the mean delivery time is faster than the mean delivery time on weekdays. Delivery time on weekdays takes longer than delivery times on the weekends.The mean weekend delivery time is 6 minutes faster than the mean delivery time on the weekdays. "
   ]
  },
  {
   "cell_type": "markdown",
   "metadata": {
    "id": "17roJywaJY_W"
   },
   "source": [
    "### Conclusion and Recommendations"
   ]
  },
  {
   "cell_type": "markdown",
   "metadata": {
    "id": "ZdX2Wz4FJY_W"
   },
   "source": [
    "### **Question 17:** What are your conclusions from the analysis? What recommendations would you like to share to help improve the business? (You can use cuisine type and feedback ratings to drive your business recommendations.)"
   ]
  },
  {
   "cell_type": "markdown",
   "metadata": {
    "id": "VTugVsL4Ddz-"
   },
   "source": [
    "## Conclusions:\n",
    "* American, Japanese, Italian, and Chinese are the most popular cuisine types among FoodHub customers.\n",
    "* 50% of orders cost less than 15 dollars.\n",
    "* Most of the orders in FoodHub fall in the  10− 20 dollar range.\n",
    "* More than half of the orders are placed on Weekends. \n",
    "* FoodHub service is in higher demand on the Weekends not Weekdays. \n",
    "* A majority of the orders are not given a rating by each customer but in cases where a customer gives a rating higher ratings are given. \n",
    "* When a order was rated, most orders were given a rating of 5. \n",
    "* There are no ratings that are lower than a 3.\n",
    "* 50% of orders took less than 27 minutes for their food to be prepped.\n",
    "* 50% of orders have delivery times of less than 25 minutes.\n",
    "* Shake Shack, The Meatball Shop, Blue Ribbon Sushi, Blue Ribbon Fried Chicken, and Parm are the top 5 restaurants in terms of the number of orders received.\n",
    "* The American cuisine type is the most popular on weekends with 415 orders. Followed by the Japanese cuisine type with 335 orders.\n",
    "* 29% of orders cost more than 20 dollars\n",
    "* 71% of orders are less than 20 dollars\n",
    "* The mean order delivery time is 24 minutes.\n",
    "* None of the numerical variables seem to have any strong correlation with each other.\n",
    "* On Weekdays the median delivery time is higher than on Weekends. The delivery time on the weekdays is significantly slower (with all of the delivery times on the weekdays being higher than the median of delivery time on the weekends).\n",
    "* American, Japanese, Italian, and Chinese cuisines are rated the most throughout all ratings.\n",
    "* American cuisines receive the highest ratings out of all the other cuisines.\n",
    "* Vietnamese and Korean cuisine have a median cost that is lower than all of the other cuisines. \n",
    "* French cuisine on the other hand have a median cost that is higher than all the other cuisines.\n",
    "* The delivery time for Korean cuisine is faster compared to the other cuisines.\n",
    "* The French cuisine is the slowest with delivery time.\n",
    "* Korean and Vietnamese cuisines are faster to prep while Italian, Thai, and Spanish cuisines take a longer time to prep their food.\n",
    "* FoodHub's total revenus from surcharges alone is 901.27 dollars.\n",
    "* 10 percent of orders take more than 60 minutes to get delivered from the time the order was placed.\n",
    "* Delivery time on weekdays takes longer than delivery times on the weekends."
   ]
  },
  {
   "cell_type": "markdown",
   "metadata": {
    "id": "PWnsI0i_guWJ"
   },
   "source": [
    "### Recommendations:\n",
    "\n",
    "*  In order to receive the best feedback from your customers I would suggest requiring your customers to give a rating in order to complete their transaction that way next time there won't be any restaurants that don't have a rating.\n",
    "* Because more than half of the orders are placed on Weekends I would recommend to hire more delivery workers on the weekends rather than on the weekdays. \n",
    "* Because American, Japanese, Italian, and Chinese are the most popular cuisine types among FoodHub customers. I would recommend adding more restaurants that fall under those cuisines because they are in such high demand. \n",
    "* If you want to gain more revenue from surcharges I suggest finding more French restaurants because French cuisine has a median cost that is higher than all the other cuisines.\n",
    "* If you are looking to quicken your time from when a customer ordered I would look into adding more Korean and Vietnamese cuisines because they are faster to prep. I would avoid Italian, Thai, and Spanish cuisines because they take longer to prep their food. \n",
    "* Because American cuisines receive the highest ratings out of all the other cuisines I would suggest adding more American cuisines.\n",
    "* Shake Shack, The Meatball Shop, Blue Ribbon Sushi, Blue Ribbon Fried Chicken, and Parm are your most favored restaurants by your customers so I suggest creating good relations with these businesses and working with them would be beneficial for your company. "
   ]
  },
  {
   "cell_type": "markdown",
   "metadata": {
    "id": "tSoucKKbg9Hc"
   },
   "source": [
    "---"
   ]
  }
 ],
 "metadata": {
  "colab": {
   "collapsed_sections": [],
   "name": "PYF_Project_LearnerNotebook_FullCode.ipynb",
   "provenance": []
  },
  "kernelspec": {
   "display_name": "Python 3 (ipykernel)",
   "language": "python",
   "name": "python3"
  },
  "language_info": {
   "codemirror_mode": {
    "name": "ipython",
    "version": 3
   },
   "file_extension": ".py",
   "mimetype": "text/x-python",
   "name": "python",
   "nbconvert_exporter": "python",
   "pygments_lexer": "ipython3",
   "version": "3.9.12"
  }
 },
 "nbformat": 4,
 "nbformat_minor": 1
}
